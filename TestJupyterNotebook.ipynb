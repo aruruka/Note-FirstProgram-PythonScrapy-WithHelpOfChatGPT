{
 "cells": [
  {
   "cell_type": "code",
   "execution_count": 3,
   "metadata": {},
   "outputs": [
    {
     "name": "stdout",
     "output_type": "stream",
     "text": [
      "['https:', '', 'quotes.toscrape.com', 'page', '1', '']\n",
      "1\n"
     ]
    }
   ],
   "source": [
    "page_1='https://quotes.toscrape.com/page/1/'\n",
    "\n",
    "print(page_1.split(\"/\"))\n",
    "print(page_1.split(\"/\")[-2])"
   ]
  },
  {
   "cell_type": "code",
   "execution_count": 5,
   "metadata": {},
   "outputs": [
    {
     "name": "stdout",
     "output_type": "stream",
     "text": [
      "<img src=\"https://pic.iyingdi.com/yingdiimg/pcards/CCSMPaC_RR001.png\" alt=\"妙蛙花&amp;藤藤蛇GX\" class=\"card-img\" data-v-662495ac>\n"
     ]
    }
   ],
   "source": [
    "target_img = '<img src=\"https://pic.iyingdi.com/yingdiimg/pcards/CCSMPaC_RR001.png\" alt=\"妙蛙花&amp;藤藤蛇GX\" class=\"card-img\" data-v-662495ac>'\n",
    "print(target_img)"
   ]
  },
  {
   "cell_type": "code",
   "execution_count": 5,
   "metadata": {},
   "outputs": [
    {
     "name": "stdout",
     "output_type": "stream",
     "text": [
      "['能量转移', '\\n系列:对战派对组合草\\n', '\\n类型: 训练家', '训练家', '\\n属性: 一般', '一般']\n",
      "['能量转移', '\\n系列:对战派对组合草\\n', '\\n类型: 训练家', '训练家', '\\n属性: 一般', '一般']\n"
     ]
    }
   ],
   "source": [
    "my_list = ['能量转移', '\\n系列:对战派对组合草\\n', '\\n类型:\\n', '训练家', '\\n属性:\\n', '一般']\n",
    "my_list = [s[:-1] + \" \" + my_list[i+1] if s.endswith(\":\\n\") else s for i, s in enumerate(my_list)]\n",
    "# print(list(enumerate(my_list)))\n",
    "print(my_list)\n",
    "my_list = [s for i, s in enumerate(my_list) if i == 0 or s != my_list[i-1]]\n",
    "print(my_list)"
   ]
  },
  {
   "cell_type": "code",
   "execution_count": 6,
   "metadata": {},
   "outputs": [
    {
     "name": "stdout",
     "output_type": "stream",
     "text": [
      "['能量转移', '\\n系列:对战派对组合草\\n', '\\n类型: 训练家', '\\n属性: 一般']\n"
     ]
    }
   ],
   "source": [
    "my_list = ['能量转移', '\\n系列:对战派对组合草\\n', '\\n类型:\\n', '训练家', '\\n属性:\\n', '一般']\n",
    "\n",
    "# Iterate over the elements in the list\n",
    "merged_list = []\n",
    "i = 0\n",
    "while i < len(my_list):\n",
    "    current_element = my_list[i]\n",
    "    if current_element.endswith(\":\\n\"):\n",
    "        current_element = current_element.replace(\":\\n\", \": \")\n",
    "        if i + 1 < len(my_list):\n",
    "            next_element = my_list[i + 1]\n",
    "            merged_element = current_element + next_element\n",
    "            merged_list.append(merged_element)\n",
    "            i += 1  # Skip the next element since it has been merged\n",
    "        else:\n",
    "            merged_list.append(current_element)\n",
    "    else:\n",
    "        merged_list.append(current_element)\n",
    "    i += 1\n",
    "\n",
    "# Print the merged list\n",
    "print(merged_list)\n"
   ]
  },
  {
   "cell_type": "code",
   "execution_count": 11,
   "metadata": {},
   "outputs": [
    {
     "name": "stdout",
     "output_type": "stream",
     "text": [
      "['能量转移', '\\n系列:对战派对组合草\\n', '\\n类型: 训练家', '训练家', '\\n属性: 一般', '一般']\n"
     ]
    }
   ],
   "source": [
    "# the original list\n",
    "my_list = ['能量转移', '\\n系列:对战派对组合草\\n', '\\n类型:\\n', '训练家', '\\n属性:\\n', '一般']\n",
    "# use a list comprehension to replace the \":\\n\" with \": \" and merge the strings\n",
    "my_list = [s[:-1] + \" \" + my_list[i+1] if s.endswith(\":\\n\") else s for i, s in enumerate(my_list)]\n",
    "# print the new list\n",
    "print(my_list)"
   ]
  },
  {
   "cell_type": "code",
   "execution_count": 9,
   "metadata": {},
   "outputs": [
    {
     "name": "stdout",
     "output_type": "stream",
     "text": [
      "['能量转移', '\\n系列:对战派对组合草\\n', '\\n类型: 训练家', '\\n属性: 一般']\n"
     ]
    }
   ],
   "source": [
    "# the original list\n",
    "my_list = ['能量转移', '\\n系列:对战派对组合草\\n', '\\n类型: 训练家', '训练家', '\\n属性: 一般', '一般']\n",
    "# use a list comprehension to remove the elements that are subsets of other elements\n",
    "my_list = [s for s in my_list if not any(s in t for t in my_list if s != t)]\n",
    "# print the new list\n",
    "print(my_list)"
   ]
  },
  {
   "cell_type": "code",
   "execution_count": 13,
   "metadata": {},
   "outputs": [
    {
     "name": "stdout",
     "output_type": "stream",
     "text": [
      "-1\n",
      "8150\n"
     ]
    }
   ],
   "source": [
    "page_number = 0\n",
    "page_number -= 1\n",
    "print(page_number)\n",
    "print(8151 + page_number)"
   ]
  }
 ],
 "metadata": {
  "kernelspec": {
   "display_name": "LaobanPokemon",
   "language": "python",
   "name": "python3"
  },
  "language_info": {
   "codemirror_mode": {
    "name": "ipython",
    "version": 3
   },
   "file_extension": ".py",
   "mimetype": "text/x-python",
   "name": "python",
   "nbconvert_exporter": "python",
   "pygments_lexer": "ipython3",
   "version": "3.9.15"
  },
  "orig_nbformat": 4
 },
 "nbformat": 4,
 "nbformat_minor": 2
}
